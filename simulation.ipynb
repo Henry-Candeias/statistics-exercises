{
 "cells": [
  {
   "cell_type": "code",
   "execution_count": 16,
   "id": "fbf03ad7",
   "metadata": {},
   "outputs": [],
   "source": [
    "%matplotlib inline\n",
    "import numpy as np\n",
    "import pandas as pd\n",
    "import scipy.stats as stats"
   ]
  },
  {
   "cell_type": "markdown",
   "id": "258b8f33",
   "metadata": {},
   "source": [
    "How likely is it that you roll doubles when rolling two dice?"
   ]
  },
  {
   "cell_type": "code",
   "execution_count": 28,
   "id": "f9254b39",
   "metadata": {},
   "outputs": [
    {
     "name": "stdout",
     "output_type": "stream",
     "text": [
      "Probability of rolling doubles: 0.1667\n"
     ]
    }
   ],
   "source": [
    "# Number of ways to roll doubles\n",
    "favorable_outcomes = 6\n",
    "\n",
    "# Total number of outcomes\n",
    "total_outcomes = 6 * 6  # 6 faces on the first die times 6 faces on the second die\n",
    "\n",
    "# Probability of rolling doubles\n",
    "probability_of_doubles = favorable_outcomes / total_outcomes\n",
    "\n",
    "print(f\"Probability of rolling doubles: {probability_of_doubles:.4f}\")"
   ]
  },
  {
   "cell_type": "code",
   "execution_count": null,
   "id": "4ca15f3a",
   "metadata": {},
   "outputs": [],
   "source": [
    "# class demo"
   ]
  },
  {
   "cell_type": "code",
   "execution_count": null,
   "id": "9f4d3d1f",
   "metadata": {},
   "outputs": [],
   "source": []
  },
  {
   "cell_type": "code",
   "execution_count": null,
   "id": "b0783e2a",
   "metadata": {},
   "outputs": [],
   "source": []
  },
  {
   "cell_type": "code",
   "execution_count": null,
   "id": "de806835",
   "metadata": {},
   "outputs": [],
   "source": []
  },
  {
   "cell_type": "code",
   "execution_count": null,
   "id": "f97513d2",
   "metadata": {},
   "outputs": [],
   "source": []
  },
  {
   "cell_type": "code",
   "execution_count": null,
   "id": "b4a48279",
   "metadata": {},
   "outputs": [],
   "source": []
  },
  {
   "cell_type": "markdown",
   "id": "b8947e5e",
   "metadata": {},
   "source": [
    "If you flip 8 coins, what is the probability of getting exactly 3 heads? What is the probability of getting more than 3 heads?"
   ]
  },
  {
   "cell_type": "code",
   "execution_count": 27,
   "id": "5a98e52f",
   "metadata": {},
   "outputs": [
    {
     "name": "stdout",
     "output_type": "stream",
     "text": [
      "Probability of exactly 3 heads: 0.2188\n",
      "Probability of more than 3 heads: 0.6367\n"
     ]
    }
   ],
   "source": [
    "from math import comb\n",
    "\n",
    "# Number of trials (coin flips)\n",
    "n = 8\n",
    "\n",
    "# Probability of getting heads in a single trial\n",
    "p = 0.5  # Assuming a fair coin\n",
    "\n",
    "# Number of successes you want\n",
    "k_exactly_3_heads = 3\n",
    "k_more_than_3_heads = range(4, n + 1)\n",
    "\n",
    "# Binomial probability formula\n",
    "def binomial_probability(n, k, p):\n",
    "    return comb(n, k) * (p ** k) * ((1 - p) ** (n - k))\n",
    "\n",
    "# Probability of exactly 3 heads\n",
    "probability_exactly_3_heads = binomial_probability(n, k_exactly_3_heads, p)\n",
    "\n",
    "# Probability of more than 3 heads\n",
    "probability_more_than_3_heads = sum(binomial_probability(n, k, p) for k in k_more_than_3_heads)\n",
    "\n",
    "print(f\"Probability of exactly 3 heads: {probability_exactly_3_heads:.4f}\")\n",
    "print(f\"Probability of more than 3 heads: {probability_more_than_3_heads:.4f}\")\n"
   ]
  },
  {
   "cell_type": "code",
   "execution_count": null,
   "id": "6f6f8d67",
   "metadata": {},
   "outputs": [],
   "source": [
    "# class demo"
   ]
  },
  {
   "cell_type": "code",
   "execution_count": null,
   "id": "52f73f83",
   "metadata": {},
   "outputs": [],
   "source": []
  },
  {
   "cell_type": "code",
   "execution_count": null,
   "id": "3bbe731b",
   "metadata": {},
   "outputs": [],
   "source": []
  },
  {
   "cell_type": "code",
   "execution_count": null,
   "id": "e8ce0d23",
   "metadata": {},
   "outputs": [],
   "source": []
  },
  {
   "cell_type": "code",
   "execution_count": null,
   "id": "dc694d12",
   "metadata": {},
   "outputs": [],
   "source": []
  },
  {
   "cell_type": "code",
   "execution_count": null,
   "id": "291f3a3f",
   "metadata": {},
   "outputs": [],
   "source": []
  },
  {
   "cell_type": "markdown",
   "id": "9fe5a1a7",
   "metadata": {},
   "source": [
    "There are approximitely 3 web development cohorts for every 1 data science cohort at Codeup. Assuming that Codeup randomly selects an alumni to put on a billboard, what are the odds that the two billboards I drive past both have data science students on them?"
   ]
  },
  {
   "cell_type": "code",
   "execution_count": 26,
   "id": "3fd8a291",
   "metadata": {},
   "outputs": [
    {
     "name": "stdout",
     "output_type": "stream",
     "text": [
      "The probability of both billboards having data science students: 0.0625\n"
     ]
    }
   ],
   "source": [
    "# Probabilities\n",
    "P_D = 1 / 4  # Probability of selecting a data science student\n",
    "P_W = 3 / 4  # Probability of selecting a web development student\n",
    "\n",
    "# Probability of both billboards having data science students\n",
    "P_D_and_D = P_D * P_D\n",
    "\n",
    "print(f\"The probability of both billboards having data science students: {P_D_and_D:.4f}\")"
   ]
  },
  {
   "cell_type": "code",
   "execution_count": null,
   "id": "c63ee504",
   "metadata": {},
   "outputs": [],
   "source": [
    "# class demo"
   ]
  },
  {
   "cell_type": "code",
   "execution_count": null,
   "id": "b2f57755",
   "metadata": {},
   "outputs": [],
   "source": []
  },
  {
   "cell_type": "code",
   "execution_count": null,
   "id": "a8440033",
   "metadata": {},
   "outputs": [],
   "source": []
  },
  {
   "cell_type": "code",
   "execution_count": null,
   "id": "284ea5ec",
   "metadata": {},
   "outputs": [],
   "source": []
  },
  {
   "cell_type": "code",
   "execution_count": null,
   "id": "1388ee67",
   "metadata": {},
   "outputs": [],
   "source": []
  },
  {
   "cell_type": "code",
   "execution_count": null,
   "id": "3ca8c2d3",
   "metadata": {},
   "outputs": [],
   "source": []
  },
  {
   "cell_type": "markdown",
   "id": "9281a737",
   "metadata": {},
   "source": [
    "Codeup students buy, on average, 3 poptart packages with a standard deviation of 1.5 a day from the snack vending machine. If on monday the machine is restocked with 17 poptart packages, how likely is it that I will be able to buy some poptarts on Friday afternoon? (Remember, if you have mean and standard deviation, use the np.random.normal) You'll need to make a judgement call on how to handle some of your values"
   ]
  },
  {
   "cell_type": "code",
   "execution_count": 25,
   "id": "ed7a3a88",
   "metadata": {},
   "outputs": [
    {
     "data": {
      "text/plain": [
       "0.7294"
      ]
     },
     "execution_count": 25,
     "metadata": {},
     "output_type": "execute_result"
    }
   ],
   "source": [
    "mean = 3\n",
    "std = 1.5\n",
    "total_poptarts = 17\n",
    "days = 5\n",
    "sample = 10_000\n",
    "poptarts_bought = np.random.normal(mean * days, std * np.sqrt(days), sample)\n",
    "poptarts_left = np.sum(poptarts_bought < total_poptarts) / len(poptarts_bought)\n",
    "poptarts_left"
   ]
  },
  {
   "cell_type": "code",
   "execution_count": null,
   "id": "13590e26",
   "metadata": {},
   "outputs": [],
   "source": [
    "# class demo"
   ]
  },
  {
   "cell_type": "code",
   "execution_count": null,
   "id": "e40ec410",
   "metadata": {},
   "outputs": [],
   "source": []
  },
  {
   "cell_type": "code",
   "execution_count": null,
   "id": "06539531",
   "metadata": {},
   "outputs": [],
   "source": []
  },
  {
   "cell_type": "code",
   "execution_count": null,
   "id": "65a0e2b0",
   "metadata": {},
   "outputs": [],
   "source": []
  },
  {
   "cell_type": "code",
   "execution_count": null,
   "id": "00dbf920",
   "metadata": {},
   "outputs": [],
   "source": []
  },
  {
   "cell_type": "code",
   "execution_count": null,
   "id": "8adff24e",
   "metadata": {},
   "outputs": [],
   "source": []
  },
  {
   "cell_type": "markdown",
   "id": "d762d71c",
   "metadata": {},
   "source": [
    "Compare Heights\n",
    "\n",
    "Men have an average height of 178 cm and standard deviation of 8cm.\n",
    "Women have a mean of 170, sd = 6cm.\n",
    "Since you have means and standard deviations, you can use np.random.normal to generate observations.\n",
    "If a man and woman are chosen at random, what is the likelihood the woman is taller than the man?"
   ]
  },
  {
   "cell_type": "code",
   "execution_count": 24,
   "id": "569f4627",
   "metadata": {},
   "outputs": [
    {
     "name": "stdout",
     "output_type": "stream",
     "text": [
      "The likelihood that a randomly chosen woman is taller than a randomly chosen man: 21.18%\n"
     ]
    }
   ],
   "source": [
    "# Given values\n",
    "mean_men, std_dev_men = 178, 8\n",
    "mean_women, std_dev_women = 170, 6\n",
    "\n",
    "# Number of simulations\n",
    "num_simulations = 100000\n",
    "\n",
    "# Simulate random heights for men and women\n",
    "heights_men = np.random.normal(mean_men, std_dev_men, num_simulations)\n",
    "heights_women = np.random.normal(mean_women, std_dev_women, num_simulations)\n",
    "\n",
    "# Calculate the proportion of times the woman is taller than the man\n",
    "probability_woman_taller = np.mean(heights_women > heights_men)\n",
    "\n",
    "print(f\"The likelihood that a randomly chosen woman is taller than a randomly chosen man: {probability_woman_taller:.2%}\")"
   ]
  },
  {
   "cell_type": "code",
   "execution_count": null,
   "id": "be58c2a8",
   "metadata": {},
   "outputs": [],
   "source": [
    "# class demo"
   ]
  },
  {
   "cell_type": "code",
   "execution_count": null,
   "id": "aff16593",
   "metadata": {},
   "outputs": [],
   "source": []
  },
  {
   "cell_type": "code",
   "execution_count": null,
   "id": "53491472",
   "metadata": {},
   "outputs": [],
   "source": []
  },
  {
   "cell_type": "code",
   "execution_count": null,
   "id": "7e481b3d",
   "metadata": {},
   "outputs": [],
   "source": []
  },
  {
   "cell_type": "code",
   "execution_count": null,
   "id": "279f1c14",
   "metadata": {},
   "outputs": [],
   "source": []
  },
  {
   "cell_type": "code",
   "execution_count": null,
   "id": "df9775f8",
   "metadata": {},
   "outputs": [],
   "source": []
  },
  {
   "cell_type": "markdown",
   "id": "5f8b49cf",
   "metadata": {},
   "source": [
    "When installing anaconda on a student's computer, there's a 1 in 250 chance that the download is corrupted and the installation fails. What are the odds that after having 50 students download anaconda, no one has an installation issue? 100 students?\n",
    "\n",
    "What is the probability that we observe an installation issue within the first 150 students that download anaconda?\n",
    "\n",
    "How likely is it that 450 students all download anaconda without an issue?"
   ]
  },
  {
   "cell_type": "code",
   "execution_count": 23,
   "id": "316745eb",
   "metadata": {},
   "outputs": [
    {
     "name": "stdout",
     "output_type": "stream",
     "text": [
      "Probability of no installation issue for 50 students: 0.8184\n",
      "Probability of no installation issue for 100 students: 0.6698\n",
      "Probability of observing an installation issue within the first 150 students: 0.4518\n",
      "Probability of no installation issue for 450 students: 0.1647\n"
     ]
    }
   ],
   "source": [
    "import scipy.stats as stats\n",
    "\n",
    "# Given probability of success (no installation issue)\n",
    "p = 1 / 250\n",
    "\n",
    "# Number of trials (students downloading Anaconda)\n",
    "n_50 = 50\n",
    "n_100 = 100\n",
    "n_150 = 150\n",
    "n_450 = 450\n",
    "\n",
    "# Calculate probabilities\n",
    "prob_no_issue_50 = stats.binom.pmf(0, n_50, p)\n",
    "prob_no_issue_100 = stats.binom.pmf(0, n_100, p)\n",
    "prob_issue_150 = 1 - stats.binom.cdf(0, n_150, p)\n",
    "prob_no_issue_450 = stats.binom.pmf(0, n_450, p)\n",
    "\n",
    "# Display results\n",
    "print(f\"Probability of no installation issue for 50 students: {prob_no_issue_50:.4f}\")\n",
    "print(f\"Probability of no installation issue for 100 students: {prob_no_issue_100:.4f}\")\n",
    "print(f\"Probability of observing an installation issue within the first 150 students: {prob_issue_150:.4f}\")\n",
    "print(f\"Probability of no installation issue for 450 students: {prob_no_issue_450:.4f}\")\n"
   ]
  },
  {
   "cell_type": "code",
   "execution_count": null,
   "id": "c277c1a3",
   "metadata": {},
   "outputs": [],
   "source": [
    "# class demo"
   ]
  },
  {
   "cell_type": "code",
   "execution_count": null,
   "id": "e494d57f",
   "metadata": {},
   "outputs": [],
   "source": []
  },
  {
   "cell_type": "code",
   "execution_count": null,
   "id": "903f95ea",
   "metadata": {},
   "outputs": [],
   "source": []
  },
  {
   "cell_type": "code",
   "execution_count": null,
   "id": "306f5da2",
   "metadata": {},
   "outputs": [],
   "source": []
  },
  {
   "cell_type": "code",
   "execution_count": null,
   "id": "d5757819",
   "metadata": {},
   "outputs": [],
   "source": []
  },
  {
   "cell_type": "code",
   "execution_count": null,
   "id": "59872177",
   "metadata": {},
   "outputs": [],
   "source": []
  },
  {
   "cell_type": "markdown",
   "id": "0b9c0c71",
   "metadata": {},
   "source": [
    "There's a 70% chance on any given day that there will be at least one food truck at Travis Park. However, you haven't seen a food truck there in 3 days. How unlikely is this?\n",
    "\n",
    "How likely is it that a food truck will show up sometime this week?"
   ]
  },
  {
   "cell_type": "code",
   "execution_count": 17,
   "id": "3f129e77",
   "metadata": {},
   "outputs": [
    {
     "name": "stdout",
     "output_type": "stream",
     "text": [
      "Probability of not seeing a food truck for 3 days: 0.0270\n"
     ]
    }
   ],
   "source": [
    "# Given probability of success (no food truck)\n",
    "p = 0.3\n",
    "\n",
    "# Number of trials (number of days)\n",
    "n = 3\n",
    "\n",
    "# Calculate the probability of not seeing a food truck for 3 days\n",
    "prob_no_food_truck = stats.binom.pmf(3, n, p)\n",
    "\n",
    "# Display the result\n",
    "print(f\"Probability of not seeing a food truck for 3 days: {prob_no_food_truck:.4f}\")"
   ]
  },
  {
   "cell_type": "code",
   "execution_count": 22,
   "id": "e3da19b4",
   "metadata": {},
   "outputs": [
    {
     "name": "stdout",
     "output_type": "stream",
     "text": [
      "Probability of seeing at least one food truck during the week: 0.9998\n"
     ]
    }
   ],
   "source": [
    "# Given probability of success (seeing a food truck)\n",
    "p = 0.7\n",
    "\n",
    "# Calculate the probability of seeing at least one food truck during the week\n",
    "prob_at_least_one_food_truck = 1 - (1 - p)**7\n",
    "\n",
    "# Display the result\n",
    "print(f\"Probability of seeing at least one food truck during the week: {prob_at_least_one_food_truck:.4f}\")"
   ]
  },
  {
   "cell_type": "code",
   "execution_count": null,
   "id": "8ab3fcef",
   "metadata": {},
   "outputs": [],
   "source": [
    "# class demo"
   ]
  },
  {
   "cell_type": "code",
   "execution_count": null,
   "id": "50fffef4",
   "metadata": {},
   "outputs": [],
   "source": []
  },
  {
   "cell_type": "code",
   "execution_count": null,
   "id": "1bf4bd31",
   "metadata": {},
   "outputs": [],
   "source": []
  },
  {
   "cell_type": "code",
   "execution_count": null,
   "id": "8b605d29",
   "metadata": {},
   "outputs": [],
   "source": []
  },
  {
   "cell_type": "code",
   "execution_count": null,
   "id": "b07679f2",
   "metadata": {},
   "outputs": [],
   "source": []
  },
  {
   "cell_type": "code",
   "execution_count": null,
   "id": "a3226ce6",
   "metadata": {},
   "outputs": [],
   "source": []
  },
  {
   "cell_type": "markdown",
   "id": "5416438f",
   "metadata": {},
   "source": [
    "If 23 people are in the same room, what are the odds that two of them share a birthday? What if it's 20 people? 40?"
   ]
  },
  {
   "cell_type": "code",
   "execution_count": 19,
   "id": "86bf457b",
   "metadata": {},
   "outputs": [
    {
     "name": "stdout",
     "output_type": "stream",
     "text": [
      "Probability that at least two people share a birthday in a group of 23 people: 0.0612\n"
     ]
    }
   ],
   "source": [
    "# Given number of people\n",
    "n = 23\n",
    "\n",
    "# Calculate the probability that two people do not share the same birthday\n",
    "p_no_shared_birthday = (364 / 365) ** n\n",
    "\n",
    "# Calculate the probability that at least two people share a birthday\n",
    "p_at_least_shared_birthday = 1 - p_no_shared_birthday\n",
    "\n",
    "# Display the result\n",
    "print(f\"Probability that at least two people share a birthday in a group of {n} people: {p_at_least_shared_birthday:.4f}\")\n"
   ]
  },
  {
   "cell_type": "code",
   "execution_count": 20,
   "id": "c7989241",
   "metadata": {},
   "outputs": [
    {
     "name": "stdout",
     "output_type": "stream",
     "text": [
      "Probability that at least two people share a birthday in a group of 20 people: 0.0534\n"
     ]
    }
   ],
   "source": [
    "# Given number of people\n",
    "n = 20\n",
    "\n",
    "# Calculate the probability that two people do not share the same birthday\n",
    "p_no_shared_birthday = (364 / 365) ** n\n",
    "\n",
    "# Calculate the probability that at least two people share a birthday\n",
    "p_at_least_shared_birthday = 1 - p_no_shared_birthday\n",
    "\n",
    "# Display the result\n",
    "print(f\"Probability that at least two people share a birthday in a group of {n} people: {p_at_least_shared_birthday:.4f}\")\n"
   ]
  },
  {
   "cell_type": "code",
   "execution_count": 21,
   "id": "1c6d8aa3",
   "metadata": {},
   "outputs": [
    {
     "name": "stdout",
     "output_type": "stream",
     "text": [
      "Probability that at least two people share a birthday in a group of 40 people: 0.1039\n"
     ]
    }
   ],
   "source": [
    "# Given number of people\n",
    "n = 40\n",
    "\n",
    "# Calculate the probability that two people do not share the same birthday\n",
    "p_no_shared_birthday = (364 / 365) ** n\n",
    "\n",
    "# Calculate the probability that at least two people share a birthday\n",
    "p_at_least_shared_birthday = 1 - p_no_shared_birthday\n",
    "\n",
    "# Display the result\n",
    "print(f\"Probability that at least two people share a birthday in a group of {n} people: {p_at_least_shared_birthday:.4f}\")\n"
   ]
  },
  {
   "cell_type": "code",
   "execution_count": null,
   "id": "067f6003",
   "metadata": {},
   "outputs": [],
   "source": [
    "# class demo"
   ]
  },
  {
   "cell_type": "code",
   "execution_count": null,
   "id": "b6af5d82",
   "metadata": {},
   "outputs": [],
   "source": []
  },
  {
   "cell_type": "code",
   "execution_count": null,
   "id": "30c0b9cc",
   "metadata": {},
   "outputs": [],
   "source": []
  },
  {
   "cell_type": "code",
   "execution_count": null,
   "id": "d1bcc884",
   "metadata": {},
   "outputs": [],
   "source": []
  },
  {
   "cell_type": "code",
   "execution_count": null,
   "id": "06d02dc7",
   "metadata": {},
   "outputs": [],
   "source": []
  },
  {
   "cell_type": "code",
   "execution_count": null,
   "id": "d33cc88f",
   "metadata": {},
   "outputs": [],
   "source": []
  }
 ],
 "metadata": {
  "kernelspec": {
   "display_name": "Python 3 (ipykernel)",
   "language": "python",
   "name": "python3"
  },
  "language_info": {
   "codemirror_mode": {
    "name": "ipython",
    "version": 3
   },
   "file_extension": ".py",
   "mimetype": "text/x-python",
   "name": "python",
   "nbconvert_exporter": "python",
   "pygments_lexer": "ipython3",
   "version": "3.11.5"
  }
 },
 "nbformat": 4,
 "nbformat_minor": 5
}
