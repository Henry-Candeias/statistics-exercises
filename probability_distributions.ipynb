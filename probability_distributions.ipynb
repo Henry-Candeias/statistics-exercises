{
 "cells": [
  {
   "cell_type": "markdown",
   "id": "57f55a5f",
   "metadata": {},
   "source": [
    "A bank found that the average number of cars waiting during the noon hour at a drive-up window follows a Poisson distribution with a mean of 2 cars. Make a chart of this distribution and answer these questions concerning the probability of cars waiting at the drive-up window."
   ]
  },
  {
   "cell_type": "code",
   "execution_count": 24,
   "id": "bd79c343",
   "metadata": {},
   "outputs": [],
   "source": [
    "# pyplot for plotting\n",
    "import matplotlib.pyplot as plt\n",
    "# numpy for vectorized array operations\n",
    "import numpy as np\n",
    "# pandas for proper tabular manipulation\n",
    "import pandas as pd\n",
    "# scipy stats for our subversions\n",
    "from scipy import stats\n",
    "from scipy.stats import poisson\n",
    "from scipy.stats import norm"
   ]
  },
  {
   "cell_type": "code",
   "execution_count": 37,
   "id": "865232ae",
   "metadata": {},
   "outputs": [
    {
     "data": {
      "image/png": "[encoded data removed]",
      "text/plain": [
       "<Figure size 640x480 with 1 Axes>"
      ]
     },
     "metadata": {},
     "output_type": "display_data"
    }
   ],
   "source": [
    "# Set the mean for the Poisson distribution\n",
    "mean_cars = 2\n",
    "\n",
    "# Generate x values (number of cars waiting)\n",
    "x_values = np.arange(0, 10)\n",
    "\n",
    "# Calculate the PMF for each x value\n",
    "pmf_values = poisson.pmf(x_values, mu=mean_cars)\n",
    "\n",
    "# Plot the Poisson distribution\n",
    "plt.bar(x_values, pmf_values, color='blue', alpha=0.7, label='Poisson Distribution')\n",
    "plt.title('Poisson Distribution - Average Cars Waiting at Drive-up Window')\n",
    "plt.xlabel('Number of Cars Waiting')\n",
    "plt.ylabel('Probability')\n",
    "plt.legend()\n",
    "plt.show()\n",
    "# This code uses scipy.stats.poisson.pmf to calculate the PMF for each possible number of cars waiting and then uses matplotlib.pyplot.bar to plot the distribution."
   ]
  },
  {
   "cell_type": "markdown",
   "id": "9b742aef",
   "metadata": {},
   "source": [
    "What is the probability that no cars drive up in the noon hour?"
   ]
  },
  {
   "cell_type": "code",
   "execution_count": 26,
   "id": "3bd31b5b",
   "metadata": {},
   "outputs": [
    {
     "name": "stdout",
     "output_type": "stream",
     "text": [
      "The probability of 0 cars waiting is 0.1353\n"
     ]
    }
   ],
   "source": [
    "prob_zero_cars = poisson.pmf(0, mu=mean_cars)\n",
    "print(f\"The probability of 0 cars waiting is {prob_zero_cars:.4f}\")"
   ]
  },
  {
   "cell_type": "markdown",
   "id": "1219bf19",
   "metadata": {},
   "source": [
    "What is the probability that 3 or more cars come through the drive through?"
   ]
  },
  {
   "cell_type": "code",
   "execution_count": 27,
   "id": "ffa94bb8",
   "metadata": {},
   "outputs": [
    {
     "name": "stdout",
     "output_type": "stream",
     "text": [
      "The probability of 3 or more cars is 0.3233\n"
     ]
    }
   ],
   "source": [
    "# Calculate the probability of 2 or fewer cars (opposite of 3 or more)\n",
    "prob_2_or_fewer_cars = poisson.cdf(2, mu=mean_cars)\n",
    "\n",
    "# Probability of 3 or more cars\n",
    "prob_3_or_more_cars = 1 - prob_2_or_fewer_cars\n",
    "\n",
    "print(f\"The probability of 3 or more cars is {prob_3_or_more_cars:.4f}\")"
   ]
  },
  {
   "cell_type": "markdown",
   "id": "de7ede9f",
   "metadata": {},
   "source": [
    "How likely is it that the drive through gets at least 1 car?"
   ]
  },
  {
   "cell_type": "code",
   "execution_count": 28,
   "id": "6e9fe71d",
   "metadata": {},
   "outputs": [
    {
     "name": "stdout",
     "output_type": "stream",
     "text": [
      "The probability of getting at least 1 car is 0.8647\n"
     ]
    }
   ],
   "source": [
    "# Probability of 0 cars\n",
    "prob_0_cars = poisson.pmf(0, mu=mean_cars)\n",
    "\n",
    "# Probability of at least 1 car\n",
    "prob_at_least_1_car = 1 - prob_0_cars\n",
    "\n",
    "print(f\"The probability of getting at least 1 car is {prob_at_least_1_car:.4f}\")"
   ]
  },
  {
   "cell_type": "markdown",
   "id": "06e7d398",
   "metadata": {},
   "source": [
    "Grades of State University graduates are normally distributed with a mean of 3.0 and a standard deviation of .3. Calculate the following:\n",
    "\n",
    "What grade point average is required to be in the top 5% of the graduating class?"
   ]
  },
  {
   "cell_type": "code",
   "execution_count": 29,
   "id": "c353841a",
   "metadata": {},
   "outputs": [
    {
     "name": "stdout",
     "output_type": "stream",
     "text": [
      "3.49\n"
     ]
    }
   ],
   "source": [
    "μ = 3.0\n",
    "σ = .3\n",
    "\n",
    "grades = stats.norm(μ, σ)\n",
    "\n",
    "top_5_percent_cutoff = grades.ppf(.95)\n",
    "\n",
    "print('{:,.2f}'.format(top_5_percent_cutoff))\n"
   ]
  },
  {
   "cell_type": "markdown",
   "id": "f0ab8c65",
   "metadata": {},
   "source": [
    "What GPA constitutes the bottom 15% of the class?"
   ]
  },
  {
   "cell_type": "code",
   "execution_count": 30,
   "id": "a9a4e715",
   "metadata": {},
   "outputs": [
    {
     "name": "stdout",
     "output_type": "stream",
     "text": [
      "2.69\n"
     ]
    }
   ],
   "source": [
    "bottom_15_percent = grades.ppf(.15)\n",
    "\n",
    "print('{:,.2f}'.format(bottom_15_percent))"
   ]
  },
  {
   "cell_type": "markdown",
   "id": "b7fad8fe",
   "metadata": {},
   "source": [
    "An eccentric alumnus left scholarship money for students in the third decile from the bottom of their class. Determine the range of the third decile. Would a student with a 2.8 grade point average qualify for this scholarship?"
   ]
  },
  {
   "cell_type": "code",
   "execution_count": 31,
   "id": "06a932ff",
   "metadata": {},
   "outputs": [
    {
     "data": {
      "text/plain": [
       "(2.7475136299281258, 2.842679846187588, 0.0951662162594622)"
      ]
     },
     "execution_count": 31,
     "metadata": {},
     "output_type": "execute_result"
    }
   ],
   "source": [
    "# Calculate GPAs for the 20th and 30th percentiles\n",
    "gpa_20 = norm.ppf(0.2, μ, σ)\n",
    "gpa_30 = norm.ppf(0.3, μ, σ)\n",
    "\n",
    "# Determine the range of the third decile\n",
    "decile_range = gpa_30 - gpa_20\n",
    "\n",
    "gpa_20, gpa_30, decile_range\n",
    "\n",
    "# Yes a student with a 2.8 gpa would qualify for the scholarship"
   ]
  },
  {
   "cell_type": "markdown",
   "id": "fd6a56bb",
   "metadata": {},
   "source": [
    "If I have a GPA of 3.5, what percentile am I in?"
   ]
  },
  {
   "cell_type": "code",
   "execution_count": 32,
   "id": "375b372e",
   "metadata": {},
   "outputs": [
    {
     "data": {
      "text/plain": [
       "95.22096477271853"
      ]
     },
     "execution_count": 32,
     "metadata": {},
     "output_type": "execute_result"
    }
   ],
   "source": [
    "student_gpa = 3.5\n",
    "\n",
    "# Use the CDF to find the percentile\n",
    "percentile = norm.cdf(student_gpa, μ, σ) * 100\n",
    "\n",
    "percentile"
   ]
  },
  {
   "cell_type": "markdown",
   "id": "e508a12f",
   "metadata": {},
   "source": [
    "A marketing website has an average click-through rate of 2%. One day they observe 4326 visitors and 97 click-throughs. How likely is it that this many people or more click through?"
   ]
  },
  {
   "cell_type": "code",
   "execution_count": 33,
   "id": "50a2a8bd",
   "metadata": {},
   "outputs": [
    {
     "name": "stdout",
     "output_type": "stream",
     "text": [
      "The probability of 97 click-throughs or more is approximately 0.1398\n"
     ]
    }
   ],
   "source": [
    "# Given values\n",
    "total_visitors = 4326\n",
    "clicks_observed = 97\n",
    "click_through_rate = 0.02  # 2%\n",
    "\n",
    "# Probability of success in a single trial\n",
    "p_success = click_through_rate\n",
    "\n",
    "# Calculate the probability of getting 96 click-throughs or fewer\n",
    "prob_less_than_97 = stats.binom.cdf(clicks_observed - 1, total_visitors, p_success)\n",
    "\n",
    "# Calculate the probability of getting 97 click-throughs or more\n",
    "prob_97_or_more = 1 - prob_less_than_97\n",
    "\n",
    "print(f\"The probability of 97 click-throughs or more is approximately {prob_97_or_more:.4f}\")\n",
    "#This code uses the cumulative distribution function (stats.binom.cdf) from the scipy.stats module to calculate the probability of getting 96 click-throughs or fewer. Subtracting this probability from 1 gives us the probability of getting 97 click-throughs or more. The result will be the likelihood of observing 97 or more click-throughs in 4326 visitors with an average click-through rate of 2%."
   ]
  },
  {
   "cell_type": "markdown",
   "id": "9760c82b",
   "metadata": {},
   "source": [
    "You are working on some statistics homework consisting of 100 questions where all of the answers are a probability rounded to the hundreths place. Looking to save time, you put down random probabilities as the answer to each question.\n",
    "\n",
    "What is the probability that at least one of your first 60 answers is correct?"
   ]
  },
  {
   "cell_type": "code",
   "execution_count": 38,
   "id": "d64f095f",
   "metadata": {},
   "outputs": [
    {
     "name": "stdout",
     "output_type": "stream",
     "text": [
      "The probability of getting at least one correct answer in the first 60 questions is approximately 0.4496\n"
     ]
    }
   ],
   "source": [
    "# Given values\n",
    "total_questions = 100\n",
    "correct_answer_probability = 1 / 101  # Assuming random guessing\n",
    "\n",
    "# Probability of getting at least one correct answer in the first 60 questions\n",
    "prob_at_least_one_correct = 1 - (1 - correct_answer_probability)**60\n",
    "\n",
    "print(f\"The probability of getting at least one correct answer in the first 60 questions is approximately {prob_at_least_one_correct:.4f}\")"
   ]
  },
  {
   "cell_type": "markdown",
   "id": "8a48f4f2",
   "metadata": {},
   "source": [
    "The codeup staff tends to get upset when the student break area is not cleaned up. Suppose that there's a 3% chance that any one student cleans the break area when they visit it, and, on any given day, about 90% of the 3 active cohorts of 22 students visit the break area. How likely is it that the break area gets cleaned up each day? How likely is it that it goes two days without getting cleaned up? All week?"
   ]
  },
  {
   "cell_type": "code",
   "execution_count": 19,
   "id": "dacdc6ab",
   "metadata": {},
   "outputs": [
    {
     "name": "stdout",
     "output_type": "stream",
     "text": [
      "Probability that the break area gets cleaned up each day: 0.8342\n",
      "Probability that it goes two days without getting cleaned up: 0.027483\n",
      "Probability that it goes a week without getting cleaned up: 0.000125\n"
     ]
    }
   ],
   "source": [
    "# Given values\n",
    "clean_probability = 0.03\n",
    "students_per_cohort = 22\n",
    "active_cohorts = 3\n",
    "daily_visit_probability = 0.9\n",
    "days_in_week = 5\n",
    "\n",
    "# Calculate total number of students\n",
    "total_students = int(daily_visit_probability * active_cohorts * students_per_cohort)\n",
    "\n",
    "# Probability that a student cleans up each day\n",
    "probability_clean_each_day = clean_probability * total_students\n",
    "\n",
    "# Probability that no student cleans up each day\n",
    "probability_not_clean_each_day = (1 - clean_probability) ** total_students\n",
    "\n",
    "# Probability that no student cleans up for two days\n",
    "probability_not_clean_two_days = probability_not_clean_each_day ** 2\n",
    "\n",
    "# Probability that no student cleans up for a week (five days)\n",
    "probability_not_clean_week = probability_not_clean_each_day ** days_in_week\n",
    "\n",
    "# Probability that the break area gets cleaned up each day\n",
    "probability_cleaned_each_day = 1 - probability_not_clean_each_day\n",
    "\n",
    "print(f\"Probability that the break area gets cleaned up each day: {probability_cleaned_each_day:.4f}\")\n",
    "print(f\"Probability that it goes two days without getting cleaned up: {probability_not_clean_two_days:.6f}\")\n",
    "print(f\"Probability that it goes a week without getting cleaned up: {probability_not_clean_week:.6f}\")\n"
   ]
  },
  {
   "cell_type": "markdown",
   "id": "694f3948",
   "metadata": {},
   "source": [
    "You want to get lunch at La Panaderia, but notice that the line is usually very long at lunchtime. After several weeks of careful observation, you notice that the average number of people in line when your lunch break starts is normally distributed with a mean of 15 and standard deviation of 3. If it takes 2 minutes for each person to order, and 10 minutes from ordering to getting your food, what is the likelihood that you have at least 15 minutes left to eat your food before you have to go back to class? Assume you have one hour for lunch, and ignore travel time to and from La Panaderia."
   ]
  },
  {
   "cell_type": "code",
   "execution_count": 34,
   "id": "8898ed62",
   "metadata": {},
   "outputs": [
    {
     "name": "stdout",
     "output_type": "stream",
     "text": [
      "Probability that you have at least 15 minutes left to eat: 0.5000\n"
     ]
    }
   ],
   "source": [
    "import scipy.stats as stats\n",
    "\n",
    "# Given values\n",
    "mean_people_in_line = 15\n",
    "std_dev_people_in_line = 3\n",
    "time_per_person_to_order = 2\n",
    "time_waiting_for_food = 10\n",
    "total_lunchtime = 60\n",
    "\n",
    "# Calculate the expected number of people in line after 60 minutes\n",
    "expected_people_in_line_60_minutes = mean_people_in_line + (60 - total_lunchtime) / time_per_person_to_order\n",
    "\n",
    "# Calculate the standard deviation of the number of people in line after 60 minutes\n",
    "std_dev_people_in_line_60_minutes = std_dev_people_in_line * (60 / total_lunchtime) ** 0.5\n",
    "\n",
    "# Calculate the probability that the number of people in line after 60 minutes is less than or equal to 15\n",
    "probability_less_than_or_equal_15 = stats.norm.cdf(15, loc=expected_people_in_line_60_minutes, scale=std_dev_people_in_line_60_minutes)\n",
    "\n",
    "# Calculate the time available to eat\n",
    "time_available_to_eat = total_lunchtime - (expected_people_in_line_60_minutes * time_per_person_to_order + time_waiting_for_food)\n",
    "\n",
    "# Calculate the probability that you have at least 15 minutes left to eat\n",
    "probability_at_least_15_minutes = stats.norm.cdf(15, loc=expected_people_in_line_60_minutes, scale=std_dev_people_in_line_60_minutes)\n",
    "\n",
    "print(f\"Probability that you have at least 15 minutes left to eat: {probability_at_least_15_minutes:.4f}\")\n"
   ]
  },
  {
   "cell_type": "markdown",
   "id": "a246820b",
   "metadata": {},
   "source": [
    "Connect to the employees database and find the average salary of current employees, along with the standard deviation. For the following questions, calculate the answer based on modeling the employees salaries with a normal distribution defined by the calculated mean and standard deviation then compare this answer to the actual values present in the salaries dataset."
   ]
  },
  {
   "cell_type": "code",
   "execution_count": 35,
   "id": "6f530c4d",
   "metadata": {},
   "outputs": [],
   "source": [
    "import env\n",
    "from env import host, username, password\n",
    "\n",
    "url = f'mysql+pymysql://{env.username}:{env.password}@{env.host}/employees'\n"
   ]
  },
  {
   "cell_type": "code",
   "execution_count": 36,
   "id": "1fb257ad",
   "metadata": {},
   "outputs": [
    {
     "data": {
      "text/html": [
       "<div>\n",
       "<style scoped>\n",
       "    .dataframe tbody tr th:only-of-type {\n",
       "        vertical-align: middle;\n",
       "    }\n",
       "\n",
       "    .dataframe tbody tr th {\n",
       "        vertical-align: top;\n",
       "    }\n",
       "\n",
       "    .dataframe thead th {\n",
       "        text-align: right;\n",
       "    }\n",
       "</style>\n",
       "<table border=\"1\" class=\"dataframe\">\n",
       "  <thead>\n",
       "    <tr style=\"text-align: right;\">\n",
       "      <th></th>\n",
       "      <th>dept_no</th>\n",
       "      <th>dept_name</th>\n",
       "    </tr>\n",
       "  </thead>\n",
       "  <tbody>\n",
       "    <tr>\n",
       "      <th>0</th>\n",
       "      <td>d009</td>\n",
       "      <td>Customer Service</td>\n",
       "    </tr>\n",
       "    <tr>\n",
       "      <th>1</th>\n",
       "      <td>d005</td>\n",
       "      <td>Development</td>\n",
       "    </tr>\n",
       "    <tr>\n",
       "      <th>2</th>\n",
       "      <td>d002</td>\n",
       "      <td>Finance</td>\n",
       "    </tr>\n",
       "    <tr>\n",
       "      <th>3</th>\n",
       "      <td>d003</td>\n",
       "      <td>Human Resources</td>\n",
       "    </tr>\n",
       "    <tr>\n",
       "      <th>4</th>\n",
       "      <td>d001</td>\n",
       "      <td>Marketing</td>\n",
       "    </tr>\n",
       "    <tr>\n",
       "      <th>5</th>\n",
       "      <td>d004</td>\n",
       "      <td>Production</td>\n",
       "    </tr>\n",
       "    <tr>\n",
       "      <th>6</th>\n",
       "      <td>d006</td>\n",
       "      <td>Quality Management</td>\n",
       "    </tr>\n",
       "    <tr>\n",
       "      <th>7</th>\n",
       "      <td>d008</td>\n",
       "      <td>Research</td>\n",
       "    </tr>\n",
       "    <tr>\n",
       "      <th>8</th>\n",
       "      <td>d007</td>\n",
       "      <td>Sales</td>\n",
       "    </tr>\n",
       "  </tbody>\n",
       "</table>\n",
       "</div>"
      ],
      "text/plain": [
       "  dept_no           dept_name\n",
       "0    d009    Customer Service\n",
       "1    d005         Development\n",
       "2    d002             Finance\n",
       "3    d003     Human Resources\n",
       "4    d001           Marketing\n",
       "5    d004          Production\n",
       "6    d006  Quality Management\n",
       "7    d008            Research\n",
       "8    d007               Sales"
      ]
     },
     "execution_count": 36,
     "metadata": {},
     "output_type": "execute_result"
    }
   ],
   "source": [
    "pd.read_sql('SELECT * FROM departments', url)"
   ]
  },
  {
   "cell_type": "code",
   "execution_count": 39,
   "id": "0718817d",
   "metadata": {},
   "outputs": [],
   "source": [
    "query = '''\n",
    "select * from salaries s where s.to_date > now()\n",
    "'''"
   ]
  },
  {
   "cell_type": "code",
   "execution_count": 41,
   "id": "23447e62",
   "metadata": {},
   "outputs": [],
   "source": [
    "df = pd.read_sql(query, url)"
   ]
  },
  {
   "cell_type": "code",
   "execution_count": 42,
   "id": "408ee3db",
   "metadata": {},
   "outputs": [
    {
     "data": {
      "text/html": [
       "<div>\n",
       "<style scoped>\n",
       "    .dataframe tbody tr th:only-of-type {\n",
       "        vertical-align: middle;\n",
       "    }\n",
       "\n",
       "    .dataframe tbody tr th {\n",
       "        vertical-align: top;\n",
       "    }\n",
       "\n",
       "    .dataframe thead th {\n",
       "        text-align: right;\n",
       "    }\n",
       "</style>\n",
       "<table border=\"1\" class=\"dataframe\">\n",
       "  <thead>\n",
       "    <tr style=\"text-align: right;\">\n",
       "      <th></th>\n",
       "      <th>emp_no</th>\n",
       "      <th>salary</th>\n",
       "      <th>from_date</th>\n",
       "      <th>to_date</th>\n",
       "    </tr>\n",
       "  </thead>\n",
       "  <tbody>\n",
       "    <tr>\n",
       "      <th>0</th>\n",
       "      <td>10001</td>\n",
       "      <td>88958</td>\n",
       "      <td>2002-06-22</td>\n",
       "      <td>9999-01-01</td>\n",
       "    </tr>\n",
       "    <tr>\n",
       "      <th>1</th>\n",
       "      <td>10002</td>\n",
       "      <td>72527</td>\n",
       "      <td>2001-08-02</td>\n",
       "      <td>9999-01-01</td>\n",
       "    </tr>\n",
       "    <tr>\n",
       "      <th>2</th>\n",
       "      <td>10003</td>\n",
       "      <td>43311</td>\n",
       "      <td>2001-12-01</td>\n",
       "      <td>9999-01-01</td>\n",
       "    </tr>\n",
       "    <tr>\n",
       "      <th>3</th>\n",
       "      <td>10004</td>\n",
       "      <td>74057</td>\n",
       "      <td>2001-11-27</td>\n",
       "      <td>9999-01-01</td>\n",
       "    </tr>\n",
       "    <tr>\n",
       "      <th>4</th>\n",
       "      <td>10005</td>\n",
       "      <td>94692</td>\n",
       "      <td>2001-09-09</td>\n",
       "      <td>9999-01-01</td>\n",
       "    </tr>\n",
       "    <tr>\n",
       "      <th>...</th>\n",
       "      <td>...</td>\n",
       "      <td>...</td>\n",
       "      <td>...</td>\n",
       "      <td>...</td>\n",
       "    </tr>\n",
       "    <tr>\n",
       "      <th>240119</th>\n",
       "      <td>499995</td>\n",
       "      <td>52868</td>\n",
       "      <td>2002-06-01</td>\n",
       "      <td>9999-01-01</td>\n",
       "    </tr>\n",
       "    <tr>\n",
       "      <th>240120</th>\n",
       "      <td>499996</td>\n",
       "      <td>69501</td>\n",
       "      <td>2002-05-12</td>\n",
       "      <td>9999-01-01</td>\n",
       "    </tr>\n",
       "    <tr>\n",
       "      <th>240121</th>\n",
       "      <td>499997</td>\n",
       "      <td>83441</td>\n",
       "      <td>2001-08-26</td>\n",
       "      <td>9999-01-01</td>\n",
       "    </tr>\n",
       "    <tr>\n",
       "      <th>240122</th>\n",
       "      <td>499998</td>\n",
       "      <td>55003</td>\n",
       "      <td>2001-12-25</td>\n",
       "      <td>9999-01-01</td>\n",
       "    </tr>\n",
       "    <tr>\n",
       "      <th>240123</th>\n",
       "      <td>499999</td>\n",
       "      <td>77303</td>\n",
       "      <td>2001-11-29</td>\n",
       "      <td>9999-01-01</td>\n",
       "    </tr>\n",
       "  </tbody>\n",
       "</table>\n",
       "<p>240124 rows × 4 columns</p>\n",
       "</div>"
      ],
      "text/plain": [
       "        emp_no  salary   from_date     to_date\n",
       "0        10001   88958  2002-06-22  9999-01-01\n",
       "1        10002   72527  2001-08-02  9999-01-01\n",
       "2        10003   43311  2001-12-01  9999-01-01\n",
       "3        10004   74057  2001-11-27  9999-01-01\n",
       "4        10005   94692  2001-09-09  9999-01-01\n",
       "...        ...     ...         ...         ...\n",
       "240119  499995   52868  2002-06-01  9999-01-01\n",
       "240120  499996   69501  2002-05-12  9999-01-01\n",
       "240121  499997   83441  2001-08-26  9999-01-01\n",
       "240122  499998   55003  2001-12-25  9999-01-01\n",
       "240123  499999   77303  2001-11-29  9999-01-01\n",
       "\n",
       "[240124 rows x 4 columns]"
      ]
     },
     "execution_count": 42,
     "metadata": {},
     "output_type": "execute_result"
    }
   ],
   "source": [
    "df"
   ]
  },
  {
   "cell_type": "code",
   "execution_count": 43,
   "id": "3689ac6a",
   "metadata": {},
   "outputs": [],
   "source": [
    "sal_stats = df.salary.agg(['mean', 'std'])"
   ]
  },
  {
   "cell_type": "code",
   "execution_count": 44,
   "id": "6c5269f6",
   "metadata": {},
   "outputs": [
    {
     "data": {
      "text/plain": [
       "array([72012.23585731, 17309.99538025])"
      ]
     },
     "execution_count": 44,
     "metadata": {},
     "output_type": "execute_result"
    }
   ],
   "source": [
    "sal_stats.values"
   ]
  },
  {
   "cell_type": "code",
   "execution_count": 45,
   "id": "f1fb7572",
   "metadata": {},
   "outputs": [],
   "source": [
    "# * is to unpack positional args from an interable in the correct order, ** will unpack kwargs from a dictionary\n",
    "salary_dist = stats.norm(*sal_stats.values)"
   ]
  },
  {
   "cell_type": "markdown",
   "id": "1394b709",
   "metadata": {},
   "source": [
    "What percent of employees earn less than 60,000?"
   ]
  },
  {
   "cell_type": "code",
   "execution_count": 46,
   "id": "b2baf656",
   "metadata": {},
   "outputs": [
    {
     "data": {
      "text/plain": [
       "0.24"
      ]
     },
     "execution_count": 46,
     "metadata": {},
     "output_type": "execute_result"
    }
   ],
   "source": [
    "round(salary_dist.cdf(60_000), 2)"
   ]
  },
  {
   "cell_type": "markdown",
   "id": "417d80ec",
   "metadata": {},
   "source": [
    "What percent of employees earn more than 95,000?"
   ]
  },
  {
   "cell_type": "code",
   "execution_count": 48,
   "id": "785bfa03",
   "metadata": {},
   "outputs": [
    {
     "data": {
      "text/plain": [
       "0.09"
      ]
     },
     "execution_count": 48,
     "metadata": {},
     "output_type": "execute_result"
    }
   ],
   "source": [
    "round(salary_dist.sf(95_000), 2)"
   ]
  },
  {
   "cell_type": "code",
   "execution_count": 49,
   "id": "703da7e1",
   "metadata": {},
   "outputs": [],
   "source": [
    "high_sal, lower_sal = salary_dist.cdf([80_000, 65_000])\n",
    "salary_bracket = high_sal - lower_sal"
   ]
  },
  {
   "cell_type": "code",
   "execution_count": 50,
   "id": "737349ac",
   "metadata": {},
   "outputs": [
    {
     "data": {
      "text/plain": [
       "0.34"
      ]
     },
     "execution_count": 50,
     "metadata": {},
     "output_type": "execute_result"
    }
   ],
   "source": [
    "round(salary_bracket, 2)"
   ]
  },
  {
   "cell_type": "markdown",
   "id": "0bc862a2",
   "metadata": {},
   "source": [
    "What do the top 5% of employees make?"
   ]
  },
  {
   "cell_type": "code",
   "execution_count": 51,
   "id": "fe91ead1",
   "metadata": {},
   "outputs": [
    {
     "data": {
      "text/plain": [
       "100484.64454102777"
      ]
     },
     "execution_count": 51,
     "metadata": {},
     "output_type": "execute_result"
    }
   ],
   "source": [
    "salary_dist.isf(0.05)"
   ]
  },
  {
   "cell_type": "code",
   "execution_count": 52,
   "id": "0440711c",
   "metadata": {},
   "outputs": [
    {
     "data": {
      "text/plain": [
       "100484.64454102775"
      ]
     },
     "execution_count": 52,
     "metadata": {},
     "output_type": "execute_result"
    }
   ],
   "source": [
    "salary_dist.ppf(0.95)"
   ]
  },
  {
   "cell_type": "code",
   "execution_count": null,
   "id": "9f66c25f",
   "metadata": {},
   "outputs": [],
   "source": []
  }
 ],
 "metadata": {
  "kernelspec": {
   "display_name": "Python 3 (ipykernel)",
   "language": "python",
   "name": "python3"
  },
  "language_info": {
   "codemirror_mode": {
    "name": "ipython",
    "version": 3
   },
   "file_extension": ".py",
   "mimetype": "text/x-python",
   "name": "python",
   "nbconvert_exporter": "python",
   "pygments_lexer": "ipython3",
   "version": "3.11.5"
  }
 },
 "nbformat": 4,
 "nbformat_minor": 5
}
